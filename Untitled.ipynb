{
 "cells": [
  {
   "cell_type": "code",
   "execution_count": 3,
   "id": "fcf05080-b6fa-4a50-b6ac-5932073f4838",
   "metadata": {
    "tags": []
   },
   "outputs": [
    {
     "name": "stdout",
     "output_type": "stream",
     "text": [
      "3\n",
      "1\n",
      "[1, 2, 3, 4]\n",
      "3\n"
     ]
    }
   ],
   "source": [
    "# lists are created using square brackets\n",
    "mylist = [1, 2, 3]\n",
    "mylist\n",
    "\n",
    "mylist.append(4)\n",
    "mylist\n",
    "\n",
    "# tuples are created using parentheses\n",
    "mytuple = (1, 2, 3)\n",
    "mytuple\n",
    "\n",
    "newtuple = (mytuple, 4)\n",
    "newtuple\n",
    "\n",
    "print (mylist[2])\n",
    "print (mytuple[0])\n",
    "\n",
    "print (mylist[:])\n",
    "\n",
    "print (mytuple[-1])\n"
   ]
  },
  {
   "cell_type": "code",
   "execution_count": 4,
   "id": "e5e5320c-dabb-493e-aa1a-6b010f8bc413",
   "metadata": {
    "tags": []
   },
   "outputs": [
    {
     "name": "stdout",
     "output_type": "stream",
     "text": [
      "a exists\n",
      "b exists\n",
      "a and b exist\n",
      "<class 'int'>\n",
      "<class 'float'>\n"
     ]
    },
    {
     "data": {
      "text/plain": [
       "str"
      ]
     },
     "execution_count": 4,
     "metadata": {},
     "output_type": "execute_result"
    }
   ],
   "source": [
    "# indentation matters! use tabs to indent. Spaces are messy.\n",
    "# code blocks for conditionals, loops, or functions are indented\n",
    "a = 2\n",
    "if a:\n",
    "    print('a exists')\n",
    "b = 3\n",
    "if b:\n",
    "    print('b exists')\n",
    "if a:\n",
    "    if b:\n",
    "        print('a and b exist')\n",
    "\n",
    "print(type(1))\n",
    "print(type(1.0))\n",
    "type('hello')\n"
   ]
  },
  {
   "cell_type": "code",
   "execution_count": 10,
   "id": "df87736f-f741-42c3-983d-183cc1c27248",
   "metadata": {
    "tags": []
   },
   "outputs": [
    {
     "name": "stdout",
     "output_type": "stream",
     "text": [
      "False\n",
      "False\n",
      "True\n",
      "a\n",
      "b\n"
     ]
    }
   ],
   "source": [
    "a = True\n",
    "b = False\n",
    "print(a is False)\n",
    "print(b is True)\n",
    "print(b is False)\n",
    "\n",
    "a = 3\n",
    "if a:\n",
    "    print('a')\n",
    "\n",
    "b = 9\n",
    "if b == 9:\n",
    "    print ('b')"
   ]
  },
  {
   "cell_type": "code",
   "execution_count": 19,
   "id": "78a5854f-9c2d-4bb2-ada6-09f662521050",
   "metadata": {
    "tags": []
   },
   "outputs": [
    {
     "data": {
      "text/plain": [
       "dict_keys(['alice', 'becky', 'chaoli', 'dan'])"
      ]
     },
     "execution_count": 19,
     "metadata": {},
     "output_type": "execute_result"
    }
   ],
   "source": [
    "# dictionaries are created using curly braces\n",
    "pet_list = {'alice':'cat', 'becky':'cat', 'chaoli': 'parrot', 'dan':'dog'}\n",
    "pet_list\n",
    "\n",
    "pet_list.keys()\n",
    "\n",
    "\n"
   ]
  },
  {
   "cell_type": "code",
   "execution_count": 18,
   "id": "fda92d09-276c-4104-b3e1-d80d7a54f2f6",
   "metadata": {
    "tags": []
   },
   "outputs": [
    {
     "data": {
      "text/plain": [
       "dict_values(['cat', 'cat', 'parrot', 'dog'])"
      ]
     },
     "execution_count": 18,
     "metadata": {},
     "output_type": "execute_result"
    }
   ],
   "source": [
    "pet_list.values()"
   ]
  },
  {
   "cell_type": "code",
   "execution_count": 21,
   "id": "9d92376c-72fb-4a04-a016-c56c92c60133",
   "metadata": {
    "tags": []
   },
   "outputs": [
    {
     "data": {
      "text/plain": [
       "{'alice': 'cat',\n",
       " 'becky': 'cat',\n",
       " 'chaoli': 'parrot',\n",
       " 'dan': 'dog',\n",
       " 'ewan': 'bunny'}"
      ]
     },
     "execution_count": 21,
     "metadata": {},
     "output_type": "execute_result"
    }
   ],
   "source": [
    "pet_list['ewan'] = 'bunny'\n",
    "pet_list"
   ]
  },
  {
   "cell_type": "code",
   "execution_count": 22,
   "id": "5abc093a-c4f6-4ecc-8f0e-137ed17aa644",
   "metadata": {
    "tags": []
   },
   "outputs": [
    {
     "data": {
      "text/plain": [
       "{'becky': 'cat', 'chaoli': 'parrot', 'dan': 'dog', 'ewan': 'bunny'}"
      ]
     },
     "execution_count": 22,
     "metadata": {},
     "output_type": "execute_result"
    }
   ],
   "source": [
    "if 'alice' in pet_list.keys():\n",
    "    del pet_list['alice']\n",
    "pet_list"
   ]
  },
  {
   "cell_type": "code",
   "execution_count": null,
   "id": "cdfba27c-784a-4171-b616-483c13b30914",
   "metadata": {},
   "outputs": [],
   "source": []
  }
 ],
 "metadata": {
  "kernelspec": {
   "display_name": "Python 3 (ipykernel)",
   "language": "python",
   "name": "python3"
  },
  "language_info": {
   "codemirror_mode": {
    "name": "ipython",
    "version": 3
   },
   "file_extension": ".py",
   "mimetype": "text/x-python",
   "name": "python",
   "nbconvert_exporter": "python",
   "pygments_lexer": "ipython3",
   "version": "3.9.18"
  }
 },
 "nbformat": 4,
 "nbformat_minor": 5
}
